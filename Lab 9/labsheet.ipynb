{
 "cells": [
  {
   "cell_type": "markdown",
   "metadata": {},
   "source": [
    "Write a python program to get user input from Nested List"
   ]
  },
  {
   "cell_type": "code",
   "execution_count": 1,
   "metadata": {},
   "outputs": [
    {
     "name": "stdout",
     "output_type": "stream",
     "text": [
      "Your list has been created successfully \n",
      "[[1, 2], [3, 4]]\n"
     ]
    }
   ],
   "source": [
    "def nestedList(no,size):\n",
    "    a=[]\n",
    "    for i in range(no):\n",
    "        b=[]\n",
    "        for j in range(size):\n",
    "            x=int(input(\"Enter the \"+str(i+1)+\" list numbers :\"))\n",
    "            b.append(x)\n",
    "        a.append(b)\n",
    "    print(\"Your list has been created successfully \")\n",
    "    print(a)\n",
    "\n",
    "no=int(input(\"How many arrays do u want? :\"))\n",
    "size=int(input(\"How many items per list :\"))\n",
    "nestedList(no,size)"
   ]
  },
  {
   "cell_type": "markdown",
   "metadata": {},
   "source": [
    "Write a python program to get user input from Nested List and print it as a matrix\n"
   ]
  },
  {
   "cell_type": "code",
   "execution_count": 2,
   "metadata": {},
   "outputs": [
    {
     "name": "stdout",
     "output_type": "stream",
     "text": [
      "Your list has been created successfully \n",
      "1 2 \n",
      "3 4 \n"
     ]
    }
   ],
   "source": [
    "def nestedList(no):\n",
    "    a=[]\n",
    "    for i in range(no):\n",
    "        b=[]\n",
    "        for j in range(no):\n",
    "            x=int(input(\"Enter the list \"+str(i+1)+\" numbers :\"))\n",
    "            b.append(x)\n",
    "        a.append(b)\n",
    "    print(\"Your list has been created successfully \")\n",
    "    for i in range(no):\n",
    "        for j in range(no):\n",
    "            print(a[i][j], end=\" \")\n",
    "        print()\n",
    "\n",
    "no=int(input(\"How many arrays do u want? :\"))\n",
    "nestedList(no)"
   ]
  },
  {
   "cell_type": "markdown",
   "metadata": {},
   "source": [
    "Write an python program to take the input in a single line"
   ]
  },
  {
   "cell_type": "code",
   "execution_count": 4,
   "metadata": {},
   "outputs": [
    {
     "name": "stdout",
     "output_type": "stream",
     "text": [
      "Your list has been created successfully \n",
      "1 2 \n",
      "3 4 \n"
     ]
    }
   ],
   "source": [
    "def nestedList(no):\n",
    "    a=[]\n",
    "    for i in range(no):\n",
    "        x=input(\"Enter the list \"+str(i+1)+\" numbers :\")\n",
    "        b=[int(y) for y in x.split(\" \")]\n",
    "        a.append(b)\n",
    "    print(\"Your list has been created successfully \")\n",
    "    for i in range(no):\n",
    "        for j in range(no):\n",
    "            print(a[i][j], end=\" \")\n",
    "        print()\n",
    "\n",
    "no=int(input(\"How many arrays do u want? :\"))\n",
    "nestedList(no)"
   ]
  },
  {
   "cell_type": "markdown",
   "metadata": {},
   "source": [
    "Write an python program to find and print the duplicate elements in a list"
   ]
  },
  {
   "cell_type": "code",
   "execution_count": 7,
   "metadata": {},
   "outputs": [
    {
     "name": "stdout",
     "output_type": "stream",
     "text": [
      "1\n",
      "2\n",
      "3\n",
      "4\n",
      "5\n",
      "6\n"
     ]
    }
   ],
   "source": [
    "def duplicateElements(b):\n",
    "    for i in range(len(b)):\n",
    "        for j in range(i+1,len(b)):\n",
    "            if b[i]==b[j]:\n",
    "                print(b[j])\n",
    "\n",
    "x=input(\"Enter the list numbers :\")\n",
    "b=[int(y) for y in x.split(\" \")]\n",
    "duplicateElements(b)"
   ]
  },
  {
   "cell_type": "markdown",
   "metadata": {},
   "source": [
    "Write a python program to print the distinct elements in a list"
   ]
  },
  {
   "cell_type": "code",
   "execution_count": 8,
   "metadata": {},
   "outputs": [
    {
     "name": "stdout",
     "output_type": "stream",
     "text": [
      "[1, 3, 5]\n"
     ]
    }
   ],
   "source": [
    "def distinctElements(b):\n",
    "    dup=[]\n",
    "    dis=[]\n",
    "    for i in range(len(b)):\n",
    "        for j in range(i + 1, len(b)):\n",
    "            if b[i] == b[j]:\n",
    "                dup.append(b[j])\n",
    "    for i in b:\n",
    "        if i not in dup and i not in dis:\n",
    "            dis.append(i)\n",
    "    print(dis)\n",
    "\n",
    "x=input(\"Enter the list numbers :\")\n",
    "b=[int(y) for y in x.split(\" \")]\n",
    "distinctElements(b)"
   ]
  }
 ],
 "metadata": {
  "kernelspec": {
   "display_name": "Python 3",
   "language": "python",
   "name": "python3"
  },
  "language_info": {
   "codemirror_mode": {
    "name": "ipython",
    "version": 3
   },
   "file_extension": ".py",
   "mimetype": "text/x-python",
   "name": "python",
   "nbconvert_exporter": "python",
   "pygments_lexer": "ipython3",
   "version": "3.10.13"
  }
 },
 "nbformat": 4,
 "nbformat_minor": 2
}
