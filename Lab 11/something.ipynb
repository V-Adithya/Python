{
 "cells": [
  {
   "cell_type": "markdown",
   "metadata": {},
   "source": [
    "input :('A','B','C')\n",
    "output :[('A','B'),('A','C')]"
   ]
  },
  {
   "cell_type": "code",
   "execution_count": 4,
   "metadata": {},
   "outputs": [
    {
     "name": "stdout",
     "output_type": "stream",
     "text": [
      "[('A', 'B'), ('A', 'C')]\n"
     ]
    }
   ],
   "source": [
    "a=('A','B','C')\n",
    "b=[]\n",
    "for i in range(1,len(a)):\n",
    "    b.append((a[0],a[i]))\n",
    "print(b)"
   ]
  },
  {
   "cell_type": "markdown",
   "metadata": {},
   "source": [
    "input:(1,2,3,4)\n",
    "output:((1,2),(2,3),(3,4))"
   ]
  },
  {
   "cell_type": "code",
   "execution_count": 12,
   "metadata": {},
   "outputs": [
    {
     "name": "stdout",
     "output_type": "stream",
     "text": [
      "((1, 2), (2, 3), (3, 4))\n"
     ]
    }
   ],
   "source": [
    "a=(1,2,3,4)\n",
    "b=[]\n",
    "for i in range((len(a)-1)):\n",
    "    b.append((a[i],a[i+1]))\n",
    "b=tuple(b)\n",
    "print(b)"
   ]
  },
  {
   "cell_type": "code",
   "execution_count": 18,
   "metadata": {},
   "outputs": [
    {
     "name": "stdout",
     "output_type": "stream",
     "text": [
      "((1, 2), (2, 3), (3, 4))\n"
     ]
    }
   ],
   "source": [
    "#Optimised above code using zipping\n",
    "a=(1,2,3,4)\n",
    "b=tuple(zip(a[:-1],a[1:]))\n",
    "print(b)"
   ]
  },
  {
   "cell_type": "code",
   "execution_count": 17,
   "metadata": {},
   "outputs": [
    {
     "name": "stdout",
     "output_type": "stream",
     "text": [
      "<class 'list'>\n",
      "<class 'tuple'>\n",
      "<class 'dict'>\n"
     ]
    }
   ],
   "source": [
    "a=[]\n",
    "b=()\n",
    "c={}\n",
    "print(type(a))\n",
    "print(type(b))\n",
    "print(type(c))"
   ]
  },
  {
   "cell_type": "markdown",
   "metadata": {},
   "source": [
    "In Dcitionaries the values get randomly shuffled everytime it is printed"
   ]
  },
  {
   "cell_type": "code",
   "execution_count": 21,
   "metadata": {},
   "outputs": [
    {
     "name": "stdout",
     "output_type": "stream",
     "text": [
      "{'rank', 'shank', 'crank', 'wank'}\n"
     ]
    }
   ],
   "source": [
    "c={'crank','wank','rank','shank'}\n",
    "print(c)"
   ]
  },
  {
   "cell_type": "markdown",
   "metadata": {},
   "source": [
    "Write an python program to remove the duplicate elements in a list"
   ]
  },
  {
   "cell_type": "code",
   "execution_count": 30,
   "metadata": {},
   "outputs": [
    {
     "name": "stdout",
     "output_type": "stream",
     "text": [
      "{1, 2, 3, 4, 5, 6}\n"
     ]
    }
   ],
   "source": [
    "a=[1,2,3,4,1,3,5,6,3]\n",
    "b=set(a)\n",
    "print(b)"
   ]
  }
 ],
 "metadata": {
  "kernelspec": {
   "display_name": "Python 3",
   "language": "python",
   "name": "python3"
  },
  "language_info": {
   "codemirror_mode": {
    "name": "ipython",
    "version": 3
   },
   "file_extension": ".py",
   "mimetype": "text/x-python",
   "name": "python",
   "nbconvert_exporter": "python",
   "pygments_lexer": "ipython3",
   "version": "3.10.13"
  }
 },
 "nbformat": 4,
 "nbformat_minor": 2
}
