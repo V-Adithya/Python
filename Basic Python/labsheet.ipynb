{
 "cells": [
  {
   "cell_type": "markdown",
   "metadata": {},
   "source": [
    "This code verifies value address"
   ]
  },
  {
   "cell_type": "code",
   "execution_count": null,
   "metadata": {},
   "outputs": [],
   "source": [
    "A=12\n",
    "B=A\n",
    "print(A)\n",
    "print(B)\n",
    "print(id(A))\n",
    "print(id(B))\n"
   ]
  },
  {
   "cell_type": "markdown",
   "metadata": {},
   "source": [
    "Write a python program to print the given number is negative print into postive format"
   ]
  },
  {
   "cell_type": "code",
   "execution_count": null,
   "metadata": {},
   "outputs": [],
   "source": [
    "A=-10\n",
    "if A<0:\n",
    "    B=A*-1\n",
    "    print(\"The positive format of \",A,\" is \",B)\n",
    "else:\n",
    "    print(\"The number given is not negative\")"
   ]
  },
  {
   "cell_type": "markdown",
   "metadata": {},
   "source": [
    "Write an python to check whether a given number is even or odd\n"
   ]
  },
  {
   "cell_type": "code",
   "execution_count": null,
   "metadata": {},
   "outputs": [],
   "source": [
    "def oddeven(a):\n",
    "    \"\"\"Function to check whether a number is odd or even\"\"\"\n",
    "    b=a%2\n",
    "    if b==1:\n",
    "        print(\"The number is odd\")\n",
    "    else:\n",
    "        print(\"The number is even\")\n",
    "\n",
    "X=21\n",
    "oddeven(X)"
   ]
  },
  {
   "cell_type": "markdown",
   "metadata": {},
   "source": [
    "Write a python program to check whether a given character is vowel or not\n"
   ]
  },
  {
   "cell_type": "code",
   "execution_count": null,
   "metadata": {},
   "outputs": [],
   "source": [
    "def isvowel(a):\n",
    "    \"\"\"checks wheter a character is a vowel or not\"\"\"\n",
    "    z=a.lower()\n",
    "    vowel=[\"a\",\"e\",\"i\",\"o\",\"u\"]\n",
    "    for i in vowel:\n",
    "        if z==i :\n",
    "            print(\"It is a vowel\")\n",
    "            break\n",
    "    else:\n",
    "        print(\"It is an consonant\")\n",
    "A=input(\"Enter a variable : \")\n",
    "isvowel(A)"
   ]
  },
  {
   "cell_type": "markdown",
   "metadata": {},
   "source": [
    "Write a python program to check the group of box according to the weight condition. The weight condition : \n",
    "50-60 = Group A,\n",
    "61-70 = Group B,\n",
    "71-80 = Group C,\n",
    "Above 80 = Group D\n"
   ]
  },
  {
   "cell_type": "code",
   "execution_count": null,
   "metadata": {},
   "outputs": [],
   "source": [
    "def weight(a):\n",
    "    \"\"\"functin to check weight conditon\"\"\"\n",
    "    if a<50:\n",
    "        print(\"Underweight\")\n",
    "    elif a>=50 and a<=60:\n",
    "        print(\"Group A\")\n",
    "    elif a>=61 and a<=70:\n",
    "        print(\"Group B\")\n",
    "    elif a>=71 and a<=80:\n",
    "        print(\"Group C\")\n",
    "    elif a>80:\n",
    "        print(\"Group D\")\n",
    "\n",
    "X=int(input(\"Enter a number :\"))\n",
    "weight(X)"
   ]
  }
 ],
 "metadata": {
  "language_info": {
   "name": "python"
  }
 },
 "nbformat": 4,
 "nbformat_minor": 2
}
