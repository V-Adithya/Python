{
 "cells": [
  {
   "cell_type": "markdown",
   "metadata": {},
   "source": [
    "write a python program to get a user input to a list"
   ]
  },
  {
   "cell_type": "code",
   "execution_count": 3,
   "metadata": {},
   "outputs": [
    {
     "name": "stdout",
     "output_type": "stream",
     "text": [
      "['10', '20']\n"
     ]
    },
    {
     "data": {
      "text/plain": [
       "'for i in arr:\\n    if i<great and i!=great:\\n        great2=i\\n    print(great2)'"
      ]
     },
     "execution_count": 3,
     "metadata": {},
     "output_type": "execute_result"
    }
   ],
   "source": [
    "arr=[]\n",
    "inp=int(input(\"how many input do you want to add\"))\n",
    "for i in range(inp):\n",
    "    x=input(\"what u want to enter\")\n",
    "    arr.append(x)\n",
    "print(arr)\n",
    "\n",
    "'''for i in arr:\n",
    "    if i<great and i!=great:\n",
    "        great2=i\n",
    "    print(great2)'''\n"
   ]
  },
  {
   "cell_type": "code",
   "execution_count": 4,
   "metadata": {},
   "outputs": [
    {
     "ename": "NameError",
     "evalue": "name 'self' is not defined",
     "output_type": "error",
     "traceback": [
      "\u001b[0;31m---------------------------------------------------------------------------\u001b[0m",
      "\u001b[0;31mNameError\u001b[0m                                 Traceback (most recent call last)",
      "Cell \u001b[0;32mIn[4], line 1\u001b[0m\n\u001b[0;32m----> 1\u001b[0m \u001b[38;5;28;01mclass\u001b[39;00m \u001b[38;5;21;01mSolution\u001b[39;00m(\u001b[38;5;28mobject\u001b[39m):\n\u001b[1;32m      2\u001b[0m     \u001b[38;5;28;01mdef\u001b[39;00m \u001b[38;5;21mtwoSum\u001b[39m(\u001b[38;5;28mself\u001b[39m, nums, target):\n\u001b[1;32m      3\u001b[0m \u001b[38;5;250m        \u001b[39m\u001b[38;5;124;03m\"\"\"\u001b[39;00m\n\u001b[1;32m      4\u001b[0m \u001b[38;5;124;03m        :type nums: List[int]\u001b[39;00m\n\u001b[1;32m      5\u001b[0m \u001b[38;5;124;03m        :type target: int\u001b[39;00m\n\u001b[1;32m      6\u001b[0m \u001b[38;5;124;03m        :rtype: List[int]\u001b[39;00m\n\u001b[1;32m      7\u001b[0m \u001b[38;5;124;03m        \"\"\"\u001b[39;00m\n",
      "Cell \u001b[0;32mIn[4], line 21\u001b[0m, in \u001b[0;36mSolution\u001b[0;34m()\u001b[0m\n\u001b[1;32m     19\u001b[0m     nums\u001b[38;5;241m.\u001b[39mappend(x)\n\u001b[1;32m     20\u001b[0m target\u001b[38;5;241m=\u001b[39m\u001b[38;5;28mint\u001b[39m(\u001b[38;5;28minput\u001b[39m(\u001b[38;5;124m\"\u001b[39m\u001b[38;5;124mEnter the sum of numbers you wanna find :\u001b[39m\u001b[38;5;124m\"\u001b[39m))\n\u001b[0;32m---> 21\u001b[0m twoSum(\u001b[38;5;28;43mself\u001b[39;49m,nums,target)\n",
      "\u001b[0;31mNameError\u001b[0m: name 'self' is not defined"
     ]
    }
   ],
   "source": [
    "class Solution(object):\n",
    "    def twoSum(self, nums, target):\n",
    "        \"\"\"\n",
    "        :type nums: List[int]\n",
    "        :type target: int\n",
    "        :rtype: List[int]\n",
    "        \"\"\"\n",
    "        self.sol=[]\n",
    "        for i in nums:\n",
    "            for j in nums:\n",
    "                if i+j==target:\n",
    "                    sol.append(i,j)\n",
    "        return sol\n",
    "    \n",
    "    c=int(input(\"Enter the number of elements u want to enter :\"))\n",
    "    nums=[]\n",
    "    for i in range(1,c+1):\n",
    "        x=int(input(\"Enter your number :\"))\n",
    "        nums.append(x)\n",
    "    target=int(input(\"Enter the sum of numbers you wanna find :\"))\n",
    "    twoSum(self,nums,target)\n",
    "\n",
    "\n",
    "        "
   ]
  },
  {
   "cell_type": "code",
   "execution_count": null,
   "metadata": {},
   "outputs": [],
   "source": [
    "def int_to_roman(num):\n",
    "  roman_numerals = {1000: 'M', 900: 'CM', 500: 'D', 400: 'CD', 100: 'C',\n",
    "                    90: 'XC', 50: 'L', 40: 'XL', 10: 'X', 9: 'IX', 5: 'V', 4: 'IV', 1: 'I'}\n",
    "\n",
    "  roman = ''\n",
    "  for value, numeral in roman_numerals.items():\n",
    "    while num >= value:\n",
    "      roman += numeral\n",
    "      num -= value\n",
    "  return roman\n",
    "\n",
    "# Example usage\n",
    "number = int(input(\"Enter a number between 1 and 3999: \"))\n",
    "roman_number = int_to_roman(number)\n",
    "print(f\"{number} in Roman numerals is: {roman_number}\")"
   ]
  },
  {
   "cell_type": "code",
   "execution_count": null,
   "metadata": {},
   "outputs": [],
   "source": [
    "'''YOOOOOOOOOOOOOOOOO'''\n",
    "import numpy as np\n",
    "\n",
    "x=-((0.33*np.log2(0.33)) + (0.66*np.log2(0.66)))\n",
    "print(x)\n"
   ]
  }
 ],
 "metadata": {
  "kernelspec": {
   "display_name": "Python 3",
   "language": "python",
   "name": "python3"
  },
  "language_info": {
   "codemirror_mode": {
    "name": "ipython",
    "version": 3
   },
   "file_extension": ".py",
   "mimetype": "text/x-python",
   "name": "python",
   "nbconvert_exporter": "python",
   "pygments_lexer": "ipython3",
   "version": "3.10.13"
  }
 },
 "nbformat": 4,
 "nbformat_minor": 2
}
