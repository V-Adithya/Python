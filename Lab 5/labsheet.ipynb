{
 "cells": [
  {
   "cell_type": "markdown",
   "metadata": {},
   "source": [
    "write a python program to get a user input to a list"
   ]
  },
  {
   "cell_type": "code",
   "execution_count": null,
   "metadata": {},
   "outputs": [],
   "source": [
    "arr=[]\n",
    "inp=int(input(\"how many input do you want to add\"))\n",
    "for i in range(inp):\n",
    "    x=input(\"what u want to enter\")\n",
    "    arr.append(x)\n",
    "print(arr)\n",
    "\n",
    "\n",
    "        for i in arr:\n",
    "            if i<great and i!=great:\n",
    "                great2=i\n",
    "        print(great2)\n"
   ]
  },
  {
   "cell_type": "code",
   "execution_count": null,
   "metadata": {},
   "outputs": [],
   "source": [
    "class Solution(object):\n",
    "    def twoSum(self, nums, target):\n",
    "        \"\"\"\n",
    "        :type nums: List[int]\n",
    "        :type target: int\n",
    "        :rtype: List[int]\n",
    "        \"\"\"\n",
    "        self.sol=[]\n",
    "        for i in nums:\n",
    "            for j in nums:\n",
    "                if i+j==target:\n",
    "                    sol.append(i,j)\n",
    "        return sol\n",
    "    \n",
    "    c=int(input(\"Enter the number of elements u want to enter :\"))\n",
    "    nums=[]\n",
    "    for i in range(1,c+1):\n",
    "        x=int(input(\"Enter your number :\"))\n",
    "        nums.append(x)\n",
    "    target=int(input(\"Enter the sum of numbers you wanna find :\"))\n",
    "    twoSum(self,nums,target)\n",
    "\n",
    "\n",
    "        "
   ]
  },
  {
   "cell_type": "code",
   "execution_count": null,
   "metadata": {},
   "outputs": [],
   "source": [
    "def int_to_roman(num):\n",
    "  roman_numerals = {1000: 'M', 900: 'CM', 500: 'D', 400: 'CD', 100: 'C',\n",
    "                    90: 'XC', 50: 'L', 40: 'XL', 10: 'X', 9: 'IX', 5: 'V', 4: 'IV', 1: 'I'}\n",
    "\n",
    "  roman = ''\n",
    "  for value, numeral in roman_numerals.items():\n",
    "    while num >= value:\n",
    "      roman += numeral\n",
    "      num -= value\n",
    "  return roman\n",
    "\n",
    "# Example usage\n",
    "number = int(input(\"Enter a number between 1 and 3999: \"))\n",
    "roman_number = int_to_roman(number)\n",
    "print(f\"{number} in Roman numerals is: {roman_number}\")"
   ]
  },
  {
   "cell_type": "code",
   "execution_count": null,
   "metadata": {},
   "outputs": [],
   "source": [
    "'''YOOOOOOOOOOOOOOOOO'''\n",
    "import numpy as np\n",
    "\n",
    "x=-((0.33*np.log2(0.33)) + (0.66*np.log2(0.66)))\n",
    "print(x)\n"
   ]
  }
 ],
 "metadata": {
  "language_info": {
   "name": "python"
  }
 },
 "nbformat": 4,
 "nbformat_minor": 2
}
